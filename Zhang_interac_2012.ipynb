{
 "cells": [
  {
   "cell_type": "code",
   "execution_count": 2,
   "metadata": {},
   "outputs": [],
   "source": [
    "import sympy\n",
    "import math \n",
    "import numpy as np\n",
    "from scipy.optimize import fsolve\n",
    "from scipy.integrate import odeint\n",
    "import matplotlib.pyplot as plt"
   ]
  },
  {
   "cell_type": "markdown",
   "metadata": {},
   "source": [
    "## Interacting Holographic Dark Energy Model (IHDE)\n",
    "### For the holographic dark energy model with the dark matter interaction, the evolution of the \n",
    "### the density parameter is given by \n",
    "$$\n",
    "\\frac{d \\Omega_{de}}{dz} = \\frac{\\Omega_{de}(\\Omega_{de} -1) }{z+1} \\left(1 + \\frac{2 \\sqrt{\\Omega_{de}}}{c} \\right) + \\frac{Q \\Omega_{de}}{(1+z)H\\rho_c} - \\frac{3 \\Omega_{de} \\Omega_{ls} \\omega_{ls}}{z+1} \\,\n",
    "$$\n",
    "### We consider a Universe dominated by the dark matter, dark energy, radiation and barionic matter, i.e. \n",
    "$$\n",
    "\\Omega_{de} + \\Omega_{cdm} + \\Omega_{b} + \\Omega_r = 1\n",
    "$$\n",
    "### Using the form for the interaction paramter (https://iopscience.iop.org/article/10.1088/1475-7516/2012/06/009) \n",
    "$$\n",
    "Q = \\Gamma H \\frac{\\rho_{de}^{\\beta} \\rho_{dm}^{\\alpha} }{\\rho_{c}^{\\alpha + \\beta -1}} = \\Gamma H \\rho_{c} \\Omega_{de}^{\\beta} \\Omega_{dm}^{\\alpha}\n",
    "$$"
   ]
  },
  {
   "cell_type": "markdown",
   "metadata": {},
   "source": [
    "### The density equation in this case is \n",
    "$$\n",
    "\\frac{d \\Omega_{de}}{dz} = \\frac{\\Omega_{de}(\\Omega_{de} -1) }{z+1} \\left(1 + \\frac{2 \\sqrt{\\Omega_{de}}}{c} \\right) + \\frac{\\Gamma \\Omega_{de}^{\\beta +1} \\Omega_{dm}^{\\alpha}}{(1+z)} - \\frac{3 \\Omega_{de} \\Omega_{r} \\omega_{r}}{z+1} \\,\n",
    "$$\n",
    "### where $\\Omega_{r} = \\Omega_{r0}(z+1)^4$ and $\\omega_r = 1/3$. \n",
    "### "
   ]
  },
  {
   "cell_type": "markdown",
   "metadata": {},
   "source": [
    "$$\n",
    "\\frac{d \\Omega_{de}}{dz} = \\frac{\\Omega_{de}(\\Omega_{de} -1) }{z+1} \\left(1 + \\frac{2 \\sqrt{\\Omega_{de}}}{c} \\right) + \\frac{\\Gamma \\Omega_{de}^{\\beta +1} (1-\\Omega_{de} -  \\Omega_{b} - \\Omega_r )^{\\alpha}}{(1+z)} -  \\Omega_{de} \\Omega_{r0}(z+1)^3 \\,\n",
    "$$"
   ]
  },
  {
   "cell_type": "code",
   "execution_count": null,
   "metadata": {},
   "outputs": [],
   "source": []
  }
 ],
 "metadata": {
  "kernelspec": {
   "display_name": "cosmodesi",
   "language": "python",
   "name": "cosmodesi"
  },
  "language_info": {
   "codemirror_mode": {
    "name": "ipython",
    "version": 3
   },
   "file_extension": ".py",
   "mimetype": "text/x-python",
   "name": "python",
   "nbconvert_exporter": "python",
   "pygments_lexer": "ipython3",
   "version": "3.10.12"
  }
 },
 "nbformat": 4,
 "nbformat_minor": 2
}
